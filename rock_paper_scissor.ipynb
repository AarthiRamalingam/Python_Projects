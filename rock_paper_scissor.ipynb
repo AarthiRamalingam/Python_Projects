{
 "cells": [
  {
   "cell_type": "code",
   "execution_count": 5,
   "metadata": {},
   "outputs": [
    {
     "name": "stdout",
     "output_type": "stream",
     "text": [
      "Rock, Paper or  Scissor?rock\n",
      "You lose!\n",
      "Rock, Paper or  Scissor?paper\n",
      "Tie!\n",
      "Rock, Paper or  Scissor?scissor\n",
      "You win!\n",
      "Rock, Paper or  Scissor?lol\n",
      "you have given wrong option\n",
      "Robot score:1\n",
      "Player score:1\n"
     ]
    }
   ],
   "source": [
    "import random\n",
    "choices = [\"Rock\", \"Paper\", \"Scissors\"]\n",
    "#random choice of options\n",
    "computer = random.choice(choices)\n",
    "player = False\n",
    "robot_points= 0\n",
    "player_points= 0\n",
    "while True:\n",
    "    player = input(\"Rock, Paper or  Scissor?\").capitalize()\n",
    "    ## Conditions of Rock,Paper and Scissors\n",
    "    #edge case\n",
    "    if player == computer:\n",
    "        print(\"Tie!\")\n",
    "    elif player == \"Rock\":\n",
    "        if computer == \"Paper\":\n",
    "            print(\"You lose!\")\n",
    "            robot_points+=1\n",
    "        else:\n",
    "            print(\"You win!\")\n",
    "            player_points+=1\n",
    "    elif player == \"Paper\":\n",
    "        if computer == \"Scissor\":\n",
    "            print(\"You lose!\")\n",
    "            robot_points+=1\n",
    "        else:\n",
    "            print(\"You win!\")\n",
    "            player_points+=1\n",
    "    elif player == \"Scissor\":\n",
    "        if computer == \"Rock\":\n",
    "            print(\"You lose\")\n",
    "            robot_points+=1\n",
    "        else:\n",
    "            print(\"You win!\")\n",
    "            player_points+=1\n",
    "    elif player!='Rock' or 'Paper' or 'Scissor':\n",
    "        print(\"you have given wrong option\")\n",
    "        print(f\"Robot score:{robot_points}\")\n",
    "        print(f\"Player score:{player_points}\")\n",
    "        break"
   ]
  },
  {
   "cell_type": "code",
   "execution_count": null,
   "metadata": {},
   "outputs": [],
   "source": []
  }
 ],
 "metadata": {
  "kernelspec": {
   "display_name": "Python 3",
   "language": "python",
   "name": "python3"
  },
  "language_info": {
   "codemirror_mode": {
    "name": "ipython",
    "version": 3
   },
   "file_extension": ".py",
   "mimetype": "text/x-python",
   "name": "python",
   "nbconvert_exporter": "python",
   "pygments_lexer": "ipython3",
   "version": "3.7.6"
  }
 },
 "nbformat": 4,
 "nbformat_minor": 4
}
